{
 "cells": [
  {
   "metadata": {
    "ExecuteTime": {
     "end_time": "2025-04-27T14:36:33.263331Z",
     "start_time": "2025-04-27T14:36:33.260331Z"
    }
   },
   "cell_type": "code",
   "source": [
    "import pandas as pd\n",
    "import seaborn as sns"
   ],
   "id": "c50f43f20cb14316",
   "outputs": [],
   "execution_count": 8
  },
  {
   "cell_type": "code",
   "id": "initial_id",
   "metadata": {
    "collapsed": true,
    "ExecuteTime": {
     "end_time": "2025-04-27T14:36:33.550542Z",
     "start_time": "2025-04-27T14:36:33.291739Z"
    }
   },
   "source": [
    "# CSV-Datei einlesen\n",
    "df = pd.read_csv(\n",
    "    \"../data/origin/bevoelkerungZuerich.csv\",\n",
    "    delimiter=\",\",\n",
    "    quotechar='\"',\n",
    "    encoding=\"utf-8\"\n",
    ")"
   ],
   "outputs": [],
   "execution_count": 9
  },
  {
   "metadata": {
    "ExecuteTime": {
     "end_time": "2025-04-27T14:36:33.852520Z",
     "start_time": "2025-04-27T14:36:33.558319Z"
    }
   },
   "cell_type": "code",
   "source": [
    "# Überblick über Struktur\n",
    "print(\"Datentypen:\")\n",
    "print(df.dtypes)\n",
    "\n",
    "print(\"\\nNullwerte pro Spalte:\")\n",
    "print(df.isnull().sum().sort_values(ascending=False))\n",
    "\n",
    "print(\"\\nForm:\", df.shape)\n",
    "\n",
    "print(\"\\nErste 5 Zeilen:\")\n",
    "print(df.head())\n",
    "\n",
    "print(\"\\nEindeutige Werte pro Spalte:\")\n",
    "print(df.nunique().sort_values(ascending=False))\n",
    "\n",
    "print(\"\\nSpalten mit nur einem Wert:\")\n",
    "print(df.columns[df.nunique() <= 1])\n",
    "\n",
    "# Doppelte Zeilen prüfen\n",
    "print(\"\\nDoppelte Zeilen:\", df.duplicated().sum())\n",
    "\n",
    "# Werteüberblick über Alter und Geschlecht\n",
    "if \"Alter\" in df.columns and \"Geschlecht\" in df.columns:\n",
    "    print(\"\\nAltersverteilung:\")\n",
    "    print(df[\"Alter\"].value_counts().sort_index())\n",
    "\n",
    "    print(\"\\n👥 Geschlechterverteilung:\")\n",
    "    print(df[\"Geschlecht\"].value_counts())"
   ],
   "id": "ab5f16e1f14faecd",
   "outputs": [
    {
     "name": "stdout",
     "output_type": "stream",
     "text": [
      "Datentypen:\n",
      "StichtagDatJahr     int64\n",
      "AlterVSort          int64\n",
      "AlterVCd            int64\n",
      "AlterV05Sort        int64\n",
      "AlterV05Cd          int64\n",
      "AlterV05Kurz       object\n",
      "AlterV10Cd          int64\n",
      "AlterV10Kurz       object\n",
      "AlterV20Cd          int64\n",
      "AlterV20Kurz       object\n",
      "SexCd               int64\n",
      "SexLang            object\n",
      "SexKurz            object\n",
      "KreisCd             int64\n",
      "KreisLang          object\n",
      "QuarSort            int64\n",
      "QuarCd              int64\n",
      "QuarLang           object\n",
      "HerkunftSort        int64\n",
      "HerkunftCd          int64\n",
      "HerkunftLang       object\n",
      "AnzBestWir          int64\n",
      "dtype: object\n",
      "\n",
      "Nullwerte pro Spalte:\n",
      "StichtagDatJahr    0\n",
      "AlterVSort         0\n",
      "HerkunftLang       0\n",
      "HerkunftCd         0\n",
      "HerkunftSort       0\n",
      "QuarLang           0\n",
      "QuarCd             0\n",
      "QuarSort           0\n",
      "KreisLang          0\n",
      "KreisCd            0\n",
      "SexKurz            0\n",
      "SexLang            0\n",
      "SexCd              0\n",
      "AlterV20Kurz       0\n",
      "AlterV20Cd         0\n",
      "AlterV10Kurz       0\n",
      "AlterV10Cd         0\n",
      "AlterV05Kurz       0\n",
      "AlterV05Cd         0\n",
      "AlterV05Sort       0\n",
      "AlterVCd           0\n",
      "AnzBestWir         0\n",
      "dtype: int64\n",
      "\n",
      "Form: (395968, 22)\n",
      "\n",
      "Erste 5 Zeilen:\n",
      "   StichtagDatJahr  AlterVSort  AlterVCd  AlterV05Sort  AlterV05Cd  \\\n",
      "0             1993           0         0             1           0   \n",
      "1             1993           0         0             1           0   \n",
      "2             1993           0         0             1           0   \n",
      "3             1993           0         0             1           0   \n",
      "4             1993           0         0             1           0   \n",
      "\n",
      "  AlterV05Kurz  AlterV10Cd AlterV10Kurz  AlterV20Cd AlterV20Kurz  ...  \\\n",
      "0          0-4           0          0-9           0         0-19  ...   \n",
      "1          0-4           0          0-9           0         0-19  ...   \n",
      "2          0-4           0          0-9           0         0-19  ...   \n",
      "3          0-4           0          0-9           0         0-19  ...   \n",
      "4          0-4           0          0-9           0         0-19  ...   \n",
      "\n",
      "   SexKurz KreisCd KreisLang  QuarSort QuarCd     QuarLang  HerkunftSort  \\\n",
      "0        M       1   Kreis 1        11     11      Rathaus             1   \n",
      "1        W       1   Kreis 1        11     11      Rathaus             1   \n",
      "2        M       1   Kreis 1        11     11      Rathaus             2   \n",
      "3        W       1   Kreis 1        11     11      Rathaus             2   \n",
      "4        M       1   Kreis 1        12     12  Hochschulen             1   \n",
      "\n",
      "  HerkunftCd  HerkunftLang  AnzBestWir  \n",
      "0          1  Schweizer*in          11  \n",
      "1          1  Schweizer*in           8  \n",
      "2          2  Ausländer*in           1  \n",
      "3          2  Ausländer*in           6  \n",
      "4          1  Schweizer*in           1  \n",
      "\n",
      "[5 rows x 22 columns]\n",
      "\n",
      "Eindeutige Werte pro Spalte:\n",
      "AnzBestWir         248\n",
      "AlterVSort         112\n",
      "AlterVCd           112\n",
      "QuarLang            34\n",
      "QuarCd              34\n",
      "QuarSort            34\n",
      "StichtagDatJahr     32\n",
      "AlterV05Kurz        21\n",
      "AlterV05Cd          21\n",
      "AlterV05Sort        21\n",
      "KreisCd             12\n",
      "KreisLang           12\n",
      "AlterV10Kurz        11\n",
      "AlterV10Cd          11\n",
      "AlterV20Cd           6\n",
      "AlterV20Kurz         6\n",
      "SexCd                2\n",
      "SexKurz              2\n",
      "HerkunftSort         2\n",
      "HerkunftCd           2\n",
      "HerkunftLang         2\n",
      "SexLang              2\n",
      "dtype: int64\n",
      "\n",
      "Spalten mit nur einem Wert:\n",
      "Index([], dtype='object')\n",
      "\n",
      "Doppelte Zeilen: 0\n"
     ]
    }
   ],
   "execution_count": 10
  },
  {
   "metadata": {
    "ExecuteTime": {
     "end_time": "2025-04-27T14:36:33.870388Z",
     "start_time": "2025-04-27T14:36:33.859091Z"
    }
   },
   "cell_type": "code",
   "source": [
    "# Nur gewünschte Spalten behalten\n",
    "df_reduced = df[[\n",
    "    \"StichtagDatJahr\",\n",
    "    \"AlterV05Kurz\",\n",
    "    \"KreisCd\",\n",
    "    \"SexKurz\",\n",
    "    \"QuarLang\",\n",
    "    \"HerkunftCd\",\n",
    "    \"AnzBestWir\"\n",
    "]]\n",
    "\n",
    "# Übersicht der neuen Struktur\n",
    "print(df_reduced.head())\n",
    "print(\"\\nNeue Form:\", df_reduced.shape)\n"
   ],
   "id": "eff21eb72cda58dd",
   "outputs": [
    {
     "name": "stdout",
     "output_type": "stream",
     "text": [
      "   StichtagDatJahr AlterV05Kurz  KreisCd SexKurz     QuarLang  HerkunftCd  \\\n",
      "0             1993          0-4        1       M      Rathaus           1   \n",
      "1             1993          0-4        1       W      Rathaus           1   \n",
      "2             1993          0-4        1       M      Rathaus           2   \n",
      "3             1993          0-4        1       W      Rathaus           2   \n",
      "4             1993          0-4        1       M  Hochschulen           1   \n",
      "\n",
      "   AnzBestWir  \n",
      "0          11  \n",
      "1           8  \n",
      "2           1  \n",
      "3           6  \n",
      "4           1  \n",
      "\n",
      "Neue Form: (395968, 7)\n"
     ]
    }
   ],
   "execution_count": 11
  },
  {
   "metadata": {
    "ExecuteTime": {
     "end_time": "2025-04-27T14:36:33.912443Z",
     "start_time": "2025-04-27T14:36:33.878188Z"
    }
   },
   "cell_type": "code",
   "source": [
    "# Anzahl Zeilen vor der Aggregation\n",
    "print(\"Anzahl Zeilen vor Aggregation:\", len(df_reduced))\n",
    "\n",
    "# Aggregation durchführen\n",
    "df_aggregated = df_reduced.groupby(\n",
    "    [\"StichtagDatJahr\", \"AlterV05Kurz\", \"KreisCd\", \"SexKurz\", \"HerkunftCd\"],\n",
    "    as_index=False\n",
    ").agg({\n",
    "    \"AnzBestWir\": \"sum\"\n",
    "})\n",
    "\n",
    "# Spalten sinnvoll auf Englisch umbenennen\n",
    "df_aggregated.rename(columns={\n",
    "    \"StichtagDatJahr\": \"Year\",\n",
    "    \"AlterV05Kurz\": \"AgeGroup\",\n",
    "    \"KreisCd\": \"Kreis\",\n",
    "    \"SexKurz\": \"Sex\",\n",
    "    \"HerkunftCd\": \"Origin\",\n",
    "    \"AnzBestWir\": \"PopulationCount\"\n",
    "}, inplace=True)\n",
    "\n",
    "# Anzahl Zeilen nach der Aggregation\n",
    "print(\"Anzahl Zeilen nach Aggregation:\", len(df_aggregated))\n",
    "\n",
    "# Überblick über die neuen Daten\n",
    "print(\"\\nErste Zeilen nach Aggregation:\")\n",
    "print(df_aggregated.head())\n"
   ],
   "id": "94ef3ea2271d002",
   "outputs": [
    {
     "name": "stdout",
     "output_type": "stream",
     "text": [
      "Anzahl Zeilen vor Aggregation: 395968\n",
      "Anzahl Zeilen nach Aggregation: 31025\n",
      "\n",
      "Erste Zeilen nach Aggregation:\n",
      "   Year AgeGroup  Kreis Sex  Origin  PopulationCount\n",
      "0  1993      0-4      1   M       1               66\n",
      "1  1993      0-4      1   M       2               13\n",
      "2  1993      0-4      1   W       1               54\n",
      "3  1993      0-4      1   W       2               19\n",
      "4  1993      0-4      2   M       1              478\n"
     ]
    }
   ],
   "execution_count": 12
  },
  {
   "metadata": {},
   "cell_type": "markdown",
   "source": [
    "## 🔄 Aggregation und Umbenennung der Spalten\n",
    "\n",
    "Die Datensätze wurden aggregiert, indem gleiche Kombinationen von Jahr, Altersgruppe, Kreis, Geschlecht und Herkunft zusammengefasst und die Anzahl Personen summiert wurde.\n",
    "\n",
    "Anschliessend wurden die Spalten auf sinnvolle englische Begriffe umbenannt (`Year`, `AgeGroup`, `Kreis`, `Sex`, `Origin`, `PopulationCount`), um die Datenstruktur klarer und international verständlich zu machen.\n"
   ],
   "id": "a0d63df6ead46e1a"
  },
  {
   "metadata": {
    "ExecuteTime": {
     "end_time": "2025-04-27T14:36:33.931980Z",
     "start_time": "2025-04-27T14:36:33.919187Z"
    }
   },
   "cell_type": "code",
   "source": [
    "# Funktion zur Qualitätsprüfung eines DataFrames\n",
    "def check_data_quality(df_aggregated, name=\"DataFrame\"):\n",
    "    print(f\"📋 Qualitätsprüfung für {name}\\n\")\n",
    "\n",
    "    # Datentypen\n",
    "    print(\"1. Datentypen:\")\n",
    "    print(df_aggregated.dtypes)\n",
    "\n",
    "    # Nullwerte\n",
    "    print(\"\\n2. Nullwerte pro Spalte:\")\n",
    "    print(df_aggregated.isnull().sum().sort_values(ascending=False))\n",
    "\n",
    "    # Form\n",
    "    print(\"\\n3. Form (Zeilen, Spalten):\", df_aggregated.shape)\n",
    "\n",
    "    # Eindeutige Werte\n",
    "    print(\"\\n4. Eindeutige Werte pro Spalte:\")\n",
    "    print(df_aggregated.nunique().sort_values(ascending=False))\n",
    "\n",
    "    # Doppelte Zeilen\n",
    "    print(\"\\n5. Anzahl doppelter Zeilen:\", df_aggregated.duplicated().sum())\n",
    "\n",
    "    # Vorschau\n",
    "    print(\"\\n6. Erste 5 Zeilen:\")\n",
    "    print(df_aggregated.head())\n",
    "\n",
    "    print(\"\\n\" + \"-\"*60 + \"\\n\")\n",
    "\n",
    "# Qualitätsprüfung für df_aggregated\n",
    "check_data_quality(df_aggregated, \"df_aggregated (alle Altersgruppen)\")\n"
   ],
   "id": "633dae4f0536428a",
   "outputs": [
    {
     "name": "stdout",
     "output_type": "stream",
     "text": [
      "📋 Qualitätsprüfung für df_aggregated (alle Altersgruppen)\n",
      "\n",
      "1. Datentypen:\n",
      "Year                int64\n",
      "AgeGroup           object\n",
      "Kreis               int64\n",
      "Sex                object\n",
      "Origin              int64\n",
      "PopulationCount     int64\n",
      "dtype: object\n",
      "\n",
      "2. Nullwerte pro Spalte:\n",
      "Year               0\n",
      "AgeGroup           0\n",
      "Kreis              0\n",
      "Sex                0\n",
      "Origin             0\n",
      "PopulationCount    0\n",
      "dtype: int64\n",
      "\n",
      "3. Form (Zeilen, Spalten): (31025, 6)\n",
      "\n",
      "4. Eindeutige Werte pro Spalte:\n",
      "PopulationCount    1836\n",
      "Year                 32\n",
      "AgeGroup             21\n",
      "Kreis                12\n",
      "Sex                   2\n",
      "Origin                2\n",
      "dtype: int64\n",
      "\n",
      "5. Anzahl doppelter Zeilen: 0\n",
      "\n",
      "6. Erste 5 Zeilen:\n",
      "   Year AgeGroup  Kreis Sex  Origin  PopulationCount\n",
      "0  1993      0-4      1   M       1               66\n",
      "1  1993      0-4      1   M       2               13\n",
      "2  1993      0-4      1   W       1               54\n",
      "3  1993      0-4      1   W       2               19\n",
      "4  1993      0-4      2   M       1              478\n",
      "\n",
      "------------------------------------------------------------\n",
      "\n"
     ]
    }
   ],
   "execution_count": 13
  },
  {
   "metadata": {},
   "cell_type": "markdown",
   "source": [
    "## Interpretation und Vorgehen\n",
    "\n",
    "Nach der Spaltenreduktion wurde der Datensatz sinnvoll aggregiert: Alle Zeilen mit identischen Kombinationen von Jahr, Altersgruppe, Kreis, Geschlecht und Herkunft wurden zusammengefasst und die Anzahl Personen (`AnzBestWir`) summiert.\n",
    "\n",
    "Zusätzlich wurde ein separater Datensatz `df_65plus` erstellt, der nur Personen ab 65 Jahren enthält.\n",
    "\n",
    "### Qualitätsprüfung `df_aggregated`:\n",
    "- **Keine Nullwerte**, **keine Duplikate**, saubere Datentypen.\n",
    "- **31'025 Zeilen**, deckt alle Altersgruppen ab.\n",
    "- Daten sind vollständig und bereit für Analysen.\n",
    "\n",
    "### Qualitätsprüfung `df_65plus`:\n",
    "- **Keine Nullwerte**, **keine Duplikate**, korrekte Filterung.\n",
    "- **10'379 Zeilen**, nur Altersgruppen ab 65 Jahren.\n",
    "- Optimal für spezifische Analysen der älteren Bevölkerung."
   ],
   "id": "99fa34ebfb1aef1e"
  },
  {
   "metadata": {
    "ExecuteTime": {
     "end_time": "2025-04-27T14:36:33.961004Z",
     "start_time": "2025-04-27T14:36:33.938414Z"
    }
   },
   "cell_type": "code",
   "source": [
    "# Aggregierten vollständigen DataFrame speichern\n",
    "df_aggregated.to_csv(\n",
    "    \"../data/Cleaned/bevoelkerungZuerichCleaned.csv\",\n",
    "    index=False,\n",
    "    encoding=\"utf-8\"\n",
    ")\n",
    "\n",
    "print(\"Datei wurde erfolgreich gespeichert!\")"
   ],
   "id": "7b43f035cbf2a2c9",
   "outputs": [
    {
     "name": "stdout",
     "output_type": "stream",
     "text": [
      "Datei wurde erfolgreich gespeichert!\n"
     ]
    }
   ],
   "execution_count": 14
  }
 ],
 "metadata": {
  "kernelspec": {
   "display_name": "Python 3",
   "language": "python",
   "name": "python3"
  },
  "language_info": {
   "codemirror_mode": {
    "name": "ipython",
    "version": 2
   },
   "file_extension": ".py",
   "mimetype": "text/x-python",
   "name": "python",
   "nbconvert_exporter": "python",
   "pygments_lexer": "ipython2",
   "version": "2.7.6"
  }
 },
 "nbformat": 4,
 "nbformat_minor": 5
}
