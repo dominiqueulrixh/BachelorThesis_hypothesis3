{
 "cells": [
  {
   "metadata": {
    "ExecuteTime": {
     "end_time": "2025-04-27T16:10:59.656643Z",
     "start_time": "2025-04-27T16:10:59.655028Z"
    }
   },
   "cell_type": "code",
   "source": [
    "import pandas as pd\n",
    "import seaborn as sns"
   ],
   "id": "c50f43f20cb14316",
   "outputs": [],
   "execution_count": 15
  },
  {
   "cell_type": "code",
   "id": "initial_id",
   "metadata": {
    "collapsed": true,
    "ExecuteTime": {
     "end_time": "2025-04-27T16:10:59.667900Z",
     "start_time": "2025-04-27T16:10:59.664846Z"
    }
   },
   "source": [
    "# CSV-Datei einlesen\n",
    "df = pd.read_csv(\n",
    "    \"../data/origin/einkommenZuerich.csv\",\n",
    "    delimiter=\",\",\n",
    "    quotechar='\"',\n",
    "    encoding=\"utf-8\"\n",
    ")"
   ],
   "outputs": [],
   "execution_count": 16
  },
  {
   "metadata": {
    "ExecuteTime": {
     "end_time": "2025-04-27T16:10:59.679416Z",
     "start_time": "2025-04-27T16:10:59.672739Z"
    }
   },
   "cell_type": "code",
   "source": [
    "# Überblick über Struktur\n",
    "print(\"Datentypen:\")\n",
    "print(df.dtypes)\n",
    "\n",
    "print(\"\\nNullwerte pro Spalte:\")\n",
    "print(df.isnull().sum().sort_values(ascending=False))\n",
    "\n",
    "print(\"\\nForm:\", df.shape)\n",
    "\n",
    "print(\"\\nErste 5 Zeilen:\")\n",
    "print(df.head())\n",
    "\n",
    "print(\"\\nEindeutige Werte pro Spalte:\")\n",
    "print(df.nunique().sort_values(ascending=False))\n",
    "\n",
    "print(\"\\nSpalten mit nur einem Wert:\")\n",
    "print(df.columns[df.nunique() <= 1])\n",
    "\n",
    "# Doppelte Zeilen prüfen\n",
    "print(\"\\nDoppelte Zeilen:\", df.duplicated().sum())\n"
   ],
   "id": "ab5f16e1f14faecd",
   "outputs": [
    {
     "name": "stdout",
     "output_type": "stream",
     "text": [
      "Datentypen:\n",
      "StichtagDatJahr          int64\n",
      "KreisSort                int64\n",
      "KreisCd                  int64\n",
      "KreisLang               object\n",
      "SteuerTarifSort          int64\n",
      "SteuerTarifCd            int64\n",
      "SteuerTarifLang         object\n",
      "SteuerEinkommen_p50    float64\n",
      "SteuerEinkommen_p25    float64\n",
      "SteuerEinkommen_p75    float64\n",
      "dtype: object\n",
      "\n",
      "Nullwerte pro Spalte:\n",
      "StichtagDatJahr        0\n",
      "KreisSort              0\n",
      "KreisCd                0\n",
      "KreisLang              0\n",
      "SteuerTarifSort        0\n",
      "SteuerTarifCd          0\n",
      "SteuerTarifLang        0\n",
      "SteuerEinkommen_p50    0\n",
      "SteuerEinkommen_p25    0\n",
      "SteuerEinkommen_p75    0\n",
      "dtype: int64\n",
      "\n",
      "Form: (864, 10)\n",
      "\n",
      "Erste 5 Zeilen:\n",
      "   StichtagDatJahr  KreisSort  KreisCd KreisLang  SteuerTarifSort  \\\n",
      "0             1999          1        1   Kreis 1                0   \n",
      "1             1999          1        1   Kreis 1                1   \n",
      "2             1999          1        1   Kreis 1                2   \n",
      "3             1999          2        2   Kreis 2                0   \n",
      "4             1999          2        2   Kreis 2                1   \n",
      "\n",
      "   SteuerTarifCd         SteuerTarifLang  SteuerEinkommen_p50  \\\n",
      "0              0              Grundtarif                 38.1   \n",
      "1              1      Verheiratetentarif                 83.5   \n",
      "2              2  Einelternfamilientarif                 48.6   \n",
      "3              0              Grundtarif                 38.0   \n",
      "4              1      Verheiratetentarif                 69.8   \n",
      "\n",
      "   SteuerEinkommen_p25  SteuerEinkommen_p75  \n",
      "0                17.40                65.50  \n",
      "1                52.00               131.70  \n",
      "2                26.65                87.35  \n",
      "3                20.00                58.40  \n",
      "4                49.10               101.50  \n",
      "\n",
      "Eindeutige Werte pro Spalte:\n",
      "SteuerEinkommen_p75    610\n",
      "SteuerEinkommen_p50    546\n",
      "SteuerEinkommen_p25    438\n",
      "StichtagDatJahr         24\n",
      "KreisSort               12\n",
      "KreisCd                 12\n",
      "KreisLang               12\n",
      "SteuerTarifSort          3\n",
      "SteuerTarifCd            3\n",
      "SteuerTarifLang          3\n",
      "dtype: int64\n",
      "\n",
      "Spalten mit nur einem Wert:\n",
      "Index([], dtype='object')\n",
      "\n",
      "Doppelte Zeilen: 0\n"
     ]
    }
   ],
   "execution_count": 17
  },
  {
   "metadata": {
    "ExecuteTime": {
     "end_time": "2025-04-27T16:10:59.690064Z",
     "start_time": "2025-04-27T16:10:59.686193Z"
    }
   },
   "cell_type": "code",
   "source": [
    "# Nur gewünschte Spalten behalten\n",
    "df_reduced = df[[\n",
    "    \"StichtagDatJahr\",\n",
    "    \"KreisCd\",\n",
    "    \"SteuerTarifCd\", #0=Grundtarif, 1=Verheiratetentarif\n",
    "    \"SteuerEinkommen_p50\",\n",
    "    \"SteuerEinkommen_p25\",\n",
    "    \"SteuerEinkommen_p75\"\n",
    "]]\n",
    "\n",
    "# Übersicht der neuen Struktur\n",
    "print(df_reduced.head())\n",
    "print(\"\\nNeue Form:\", df_reduced.shape)\n"
   ],
   "id": "eff21eb72cda58dd",
   "outputs": [
    {
     "name": "stdout",
     "output_type": "stream",
     "text": [
      "   StichtagDatJahr  KreisCd  SteuerTarifCd  SteuerEinkommen_p50  \\\n",
      "0             1999        1              0                 38.1   \n",
      "1             1999        1              1                 83.5   \n",
      "2             1999        1              2                 48.6   \n",
      "3             1999        2              0                 38.0   \n",
      "4             1999        2              1                 69.8   \n",
      "\n",
      "   SteuerEinkommen_p25  SteuerEinkommen_p75  \n",
      "0                17.40                65.50  \n",
      "1                52.00               131.70  \n",
      "2                26.65                87.35  \n",
      "3                20.00                58.40  \n",
      "4                49.10               101.50  \n",
      "\n",
      "Neue Form: (864, 6)\n"
     ]
    }
   ],
   "execution_count": 18
  },
  {
   "metadata": {
    "ExecuteTime": {
     "end_time": "2025-04-27T16:10:59.706273Z",
     "start_time": "2025-04-27T16:10:59.700423Z"
    }
   },
   "cell_type": "code",
   "source": [
    "# Funktion zur Qualitätsprüfung eines DataFrames\n",
    "def check_data_quality(df_reduced, name=\"DataFrame\"):\n",
    "    print(f\"📋 Qualitätsprüfung für {name}\\n\")\n",
    "\n",
    "    # Datentypen\n",
    "    print(\"1. Datentypen:\")\n",
    "    print(df_reduced.dtypes)\n",
    "\n",
    "    # Nullwerte\n",
    "    print(\"\\n2. Nullwerte pro Spalte:\")\n",
    "    print(df_reduced.isnull().sum().sort_values(ascending=False))\n",
    "\n",
    "    # Form\n",
    "    print(\"\\n3. Form (Zeilen, Spalten):\", df_reduced.shape)\n",
    "\n",
    "    # Eindeutige Werte\n",
    "    print(\"\\n4. Eindeutige Werte pro Spalte:\")\n",
    "    print(df_reduced.nunique().sort_values(ascending=False))\n",
    "\n",
    "    # Doppelte Zeilen\n",
    "    print(\"\\n5. Anzahl doppelter Zeilen:\", df_reduced.duplicated().sum())\n",
    "\n",
    "    # Vorschau\n",
    "    print(\"\\n6. Erste 5 Zeilen:\")\n",
    "    print(df_reduced.head())\n",
    "\n",
    "    print(\"\\n\" + \"-\"*60 + \"\\n\")\n",
    "\n",
    "# Qualitätsprüfung für df_aggregated\n",
    "check_data_quality(df_reduced, \"df_reduced)\")\n"
   ],
   "id": "633dae4f0536428a",
   "outputs": [
    {
     "name": "stdout",
     "output_type": "stream",
     "text": [
      "📋 Qualitätsprüfung für df_reduced)\n",
      "\n",
      "1. Datentypen:\n",
      "StichtagDatJahr          int64\n",
      "KreisCd                  int64\n",
      "SteuerTarifCd            int64\n",
      "SteuerEinkommen_p50    float64\n",
      "SteuerEinkommen_p25    float64\n",
      "SteuerEinkommen_p75    float64\n",
      "dtype: object\n",
      "\n",
      "2. Nullwerte pro Spalte:\n",
      "StichtagDatJahr        0\n",
      "KreisCd                0\n",
      "SteuerTarifCd          0\n",
      "SteuerEinkommen_p50    0\n",
      "SteuerEinkommen_p25    0\n",
      "SteuerEinkommen_p75    0\n",
      "dtype: int64\n",
      "\n",
      "3. Form (Zeilen, Spalten): (864, 6)\n",
      "\n",
      "4. Eindeutige Werte pro Spalte:\n",
      "SteuerEinkommen_p75    610\n",
      "SteuerEinkommen_p50    546\n",
      "SteuerEinkommen_p25    438\n",
      "StichtagDatJahr         24\n",
      "KreisCd                 12\n",
      "SteuerTarifCd            3\n",
      "dtype: int64\n",
      "\n",
      "5. Anzahl doppelter Zeilen: 0\n",
      "\n",
      "6. Erste 5 Zeilen:\n",
      "   StichtagDatJahr  KreisCd  SteuerTarifCd  SteuerEinkommen_p50  \\\n",
      "0             1999        1              0                 38.1   \n",
      "1             1999        1              1                 83.5   \n",
      "2             1999        1              2                 48.6   \n",
      "3             1999        2              0                 38.0   \n",
      "4             1999        2              1                 69.8   \n",
      "\n",
      "   SteuerEinkommen_p25  SteuerEinkommen_p75  \n",
      "0                17.40                65.50  \n",
      "1                52.00               131.70  \n",
      "2                26.65                87.35  \n",
      "3                20.00                58.40  \n",
      "4                49.10               101.50  \n",
      "\n",
      "------------------------------------------------------------\n",
      "\n"
     ]
    }
   ],
   "execution_count": 19
  },
  {
   "metadata": {
    "ExecuteTime": {
     "end_time": "2025-04-27T16:10:59.780387Z",
     "start_time": "2025-04-27T16:10:59.775127Z"
    }
   },
   "cell_type": "code",
   "source": [
    "# Aggregierten vollständigen DataFrame speichern\n",
    "df_reduced.to_csv(\n",
    "    \"../data/Cleaned/einkommenZuerichCleaned.csv\",\n",
    "    index=False,\n",
    "    encoding=\"utf-8\"\n",
    ")\n",
    "\n",
    "print(\"Datei wurde erfolgreich gespeichert!\")"
   ],
   "id": "7b43f035cbf2a2c9",
   "outputs": [
    {
     "name": "stdout",
     "output_type": "stream",
     "text": [
      "Datei wurde erfolgreich gespeichert!\n"
     ]
    }
   ],
   "execution_count": 20
  }
 ],
 "metadata": {
  "kernelspec": {
   "display_name": "Python 3",
   "language": "python",
   "name": "python3"
  },
  "language_info": {
   "codemirror_mode": {
    "name": "ipython",
    "version": 2
   },
   "file_extension": ".py",
   "mimetype": "text/x-python",
   "name": "python",
   "nbconvert_exporter": "python",
   "pygments_lexer": "ipython2",
   "version": "2.7.6"
  }
 },
 "nbformat": 4,
 "nbformat_minor": 5
}
