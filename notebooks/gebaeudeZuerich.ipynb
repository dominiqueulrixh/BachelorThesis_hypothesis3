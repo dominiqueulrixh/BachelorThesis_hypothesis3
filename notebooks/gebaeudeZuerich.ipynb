{
 "cells": [
  {
   "metadata": {
    "ExecuteTime": {
     "end_time": "2025-04-27T16:49:06.496716Z",
     "start_time": "2025-04-27T16:49:06.493804Z"
    }
   },
   "cell_type": "code",
   "source": [
    "import pandas as pd\n",
    "import seaborn as sns"
   ],
   "id": "c50f43f20cb14316",
   "outputs": [],
   "execution_count": 20
  },
  {
   "cell_type": "code",
   "id": "initial_id",
   "metadata": {
    "collapsed": true,
    "ExecuteTime": {
     "end_time": "2025-04-27T16:49:06.682002Z",
     "start_time": "2025-04-27T16:49:06.501075Z"
    }
   },
   "source": [
    "# CSV-Datei einlesen\n",
    "df = pd.read_csv(\n",
    "    \"../data/origin/gebaeudeZuerich.csv\",\n",
    "    delimiter=\",\",\n",
    "    quotechar='\"',\n",
    "    encoding=\"utf-8\"\n",
    ")"
   ],
   "outputs": [],
   "execution_count": 21
  },
  {
   "metadata": {
    "ExecuteTime": {
     "end_time": "2025-04-27T16:49:06.841784Z",
     "start_time": "2025-04-27T16:49:06.690909Z"
    }
   },
   "cell_type": "code",
   "source": [
    "# Überblick über Struktur\n",
    "print(\"Datentypen:\")\n",
    "print(df.dtypes)\n",
    "\n",
    "print(\"\\nNullwerte pro Spalte:\")\n",
    "print(df.isnull().sum().sort_values(ascending=False))\n",
    "\n",
    "print(\"\\nForm:\", df.shape)\n",
    "\n",
    "print(\"\\nErste 5 Zeilen:\")\n",
    "print(df.head())\n",
    "\n",
    "print(\"\\nEindeutige Werte pro Spalte:\")\n",
    "print(df.nunique().sort_values(ascending=False))\n",
    "\n",
    "print(\"\\nSpalten mit nur einem Wert:\")\n",
    "print(df.columns[df.nunique() <= 1])\n",
    "\n",
    "# Doppelte Zeilen prüfen\n",
    "print(\"\\nDoppelte Zeilen:\", df.duplicated().sum())\n"
   ],
   "id": "ab5f16e1f14faecd",
   "outputs": [
    {
     "name": "stdout",
     "output_type": "stream",
     "text": [
      "Datentypen:\n",
      "StichtagDatJahr           int64\n",
      "DatenstandCd             object\n",
      "QuarSort                  int64\n",
      "QuarCd                    int64\n",
      "QuarLang                 object\n",
      "KreisSort                 int64\n",
      "KreisCd                   int64\n",
      "KreisLang                object\n",
      "GbdArtLevel1Sort          int64\n",
      "GbdArtLevel1Cd          float64\n",
      "GbdArtLevel1Lang         object\n",
      "GbdArtLevel2Sort          int64\n",
      "GbdArtLevel2Cd            int64\n",
      "GbdArtLevel2Lang         object\n",
      "GbdArtLevel3Sort          int64\n",
      "GbdArtLevel3Cd            int64\n",
      "GbdArtLevel3Lang         object\n",
      "GbdArtLevel4Sort          int64\n",
      "GbdArtLevel4Cd            int64\n",
      "GbdArtLevel4Lang         object\n",
      "GbdArtSSZPubl1Sort        int64\n",
      "GbdArtSSZPubl1Cd          int64\n",
      "GbdArtSSZPubl1Lang       object\n",
      "GbdArtSSZPubl2Sort        int64\n",
      "GbdArtSSZPubl2Cd          int64\n",
      "GbdArtSSZPubl2Lang       object\n",
      "GbdArtSSZPubl3Sort        int64\n",
      "GbdArtSSZPubl3Cd          int64\n",
      "GbdArtSSZPubl3Lang       object\n",
      "BauperiodeLevel1Cd        int64\n",
      "BauperiodeLevel1Lang     object\n",
      "BauperiodeLevel1Sort      int64\n",
      "AnzGbd                    int64\n",
      "GbdRauminhalt             int64\n",
      "GbdFlaecheAufN            int64\n",
      "dtype: object\n",
      "\n",
      "Nullwerte pro Spalte:\n",
      "StichtagDatJahr         0\n",
      "GbdArtSSZPubl3Sort      0\n",
      "GbdArtSSZPubl1Sort      0\n",
      "GbdArtSSZPubl1Cd        0\n",
      "GbdArtSSZPubl1Lang      0\n",
      "GbdArtSSZPubl2Sort      0\n",
      "GbdArtSSZPubl2Cd        0\n",
      "GbdArtSSZPubl2Lang      0\n",
      "GbdArtSSZPubl3Cd        0\n",
      "GbdArtLevel4Cd          0\n",
      "GbdArtSSZPubl3Lang      0\n",
      "BauperiodeLevel1Cd      0\n",
      "BauperiodeLevel1Lang    0\n",
      "BauperiodeLevel1Sort    0\n",
      "AnzGbd                  0\n",
      "GbdRauminhalt           0\n",
      "GbdArtLevel4Lang        0\n",
      "GbdArtLevel4Sort        0\n",
      "DatenstandCd            0\n",
      "GbdArtLevel1Sort        0\n",
      "QuarSort                0\n",
      "QuarCd                  0\n",
      "QuarLang                0\n",
      "KreisSort               0\n",
      "KreisCd                 0\n",
      "KreisLang               0\n",
      "GbdArtLevel1Cd          0\n",
      "GbdArtLevel3Lang        0\n",
      "GbdArtLevel1Lang        0\n",
      "GbdArtLevel2Sort        0\n",
      "GbdArtLevel2Cd          0\n",
      "GbdArtLevel2Lang        0\n",
      "GbdArtLevel3Sort        0\n",
      "GbdArtLevel3Cd          0\n",
      "GbdFlaecheAufN          0\n",
      "dtype: int64\n",
      "\n",
      "Form: (107591, 35)\n",
      "\n",
      "Erste 5 Zeilen:\n",
      "   StichtagDatJahr DatenstandCd  QuarSort  QuarCd QuarLang  KreisSort  \\\n",
      "0             2008            D        11      11  Rathaus          1   \n",
      "1             2008            D        11      11  Rathaus          1   \n",
      "2             2008            D        11      11  Rathaus          1   \n",
      "3             2008            D        11      11  Rathaus          1   \n",
      "4             2008            D        11      11  Rathaus          1   \n",
      "\n",
      "   KreisCd KreisLang  GbdArtLevel1Sort  GbdArtLevel1Cd  ...  \\\n",
      "0        1   Kreis 1                 1         1110.01  ...   \n",
      "1        1   Kreis 1                 2         1110.02  ...   \n",
      "2        1   Kreis 1                 2         1110.02  ...   \n",
      "3        1   Kreis 1                 4         1121.01  ...   \n",
      "4        1   Kreis 1                 4         1121.01  ...   \n",
      "\n",
      "                                  GbdArtSSZPubl2Lang  GbdArtSSZPubl3Sort  \\\n",
      "0    Einfamilienhaus freistehend ohne Geschäftsräume                   1   \n",
      "1       Einfamilienhaus angebaut ohne Geschäftsräume                   1   \n",
      "2       Einfamilienhaus angebaut ohne Geschäftsräume                   1   \n",
      "3  Mehrfamilienhaus mit 2 Wohnungen ohne Geschäft...                   2   \n",
      "4  Mehrfamilienhaus mit 2 Wohnungen ohne Geschäft...                   2   \n",
      "\n",
      "   GbdArtSSZPubl3Cd  GbdArtSSZPubl3Lang  BauperiodeLevel1Cd  \\\n",
      "0                 1   Einfamilienhäuser                   1   \n",
      "1                 1   Einfamilienhäuser                   1   \n",
      "2                 1   Einfamilienhäuser                  11   \n",
      "3                 2  Mehrfamilienhäuser                   1   \n",
      "4                 2  Mehrfamilienhäuser                   6   \n",
      "\n",
      "   BauperiodeLevel1Lang BauperiodeLevel1Sort  AnzGbd  GbdRauminhalt  \\\n",
      "0              Vor 1893                    1       1            265   \n",
      "1              Vor 1893                    1      16          13746   \n",
      "2           1980 - 1989                   11       4           1552   \n",
      "3              Vor 1893                    1      10          21324   \n",
      "4           1930 - 1939                    6       1           3236   \n",
      "\n",
      "  GbdFlaecheAufN  \n",
      "0             53  \n",
      "1           1285  \n",
      "2            257  \n",
      "3           1259  \n",
      "4            247  \n",
      "\n",
      "[5 rows x 35 columns]\n",
      "\n",
      "Eindeutige Werte pro Spalte:\n",
      "GbdRauminhalt           20775\n",
      "GbdFlaecheAufN           7666\n",
      "AnzGbd                    307\n",
      "GbdArtLevel1Sort           48\n",
      "GbdArtLevel1Cd             48\n",
      "GbdArtLevel1Lang           48\n",
      "GbdArtSSZPubl2Sort         42\n",
      "GbdArtSSZPubl2Cd           42\n",
      "GbdArtSSZPubl2Lang         41\n",
      "QuarSort                   34\n",
      "QuarCd                     34\n",
      "QuarLang                   34\n",
      "GbdArtLevel2Sort           24\n",
      "GbdArtLevel2Cd             24\n",
      "GbdArtLevel2Lang           24\n",
      "StichtagDatJahr            17\n",
      "BauperiodeLevel1Sort       15\n",
      "BauperiodeLevel1Lang       15\n",
      "BauperiodeLevel1Cd         15\n",
      "KreisLang                  12\n",
      "KreisSort                  12\n",
      "KreisCd                    12\n",
      "GbdArtSSZPubl3Sort         10\n",
      "GbdArtSSZPubl3Lang         10\n",
      "GbdArtSSZPubl3Cd           10\n",
      "GbdArtLevel3Lang           10\n",
      "GbdArtLevel3Sort           10\n",
      "GbdArtLevel3Cd             10\n",
      "GbdArtSSZPubl1Lang          4\n",
      "GbdArtSSZPubl1Cd            4\n",
      "GbdArtSSZPubl1Sort          4\n",
      "GbdArtLevel4Lang            2\n",
      "GbdArtLevel4Cd              2\n",
      "GbdArtLevel4Sort            2\n",
      "DatenstandCd                1\n",
      "dtype: int64\n",
      "\n",
      "Spalten mit nur einem Wert:\n",
      "Index(['DatenstandCd'], dtype='object')\n",
      "\n",
      "Doppelte Zeilen: 0\n"
     ]
    }
   ],
   "execution_count": 22
  },
  {
   "metadata": {
    "ExecuteTime": {
     "end_time": "2025-04-27T16:49:06.863868Z",
     "start_time": "2025-04-27T16:49:06.856867Z"
    }
   },
   "cell_type": "code",
   "source": [
    "# Nur gewünschte Spalten behalten\n",
    "df_reduced = df[[\n",
    "    \"StichtagDatJahr\",\n",
    "    \"KreisCd\",\n",
    "    \"GbdArtLevel1Lang\",\n",
    "    \"GbdArtLevel2Lang\",\n",
    "    \"GbdArtLevel3Lang\",\n",
    "    \"GbdArtLevel4Lang\",\n",
    "    \"BauperiodeLevel1Lang\",\n",
    "    \"AnzGbd\",\n",
    "    \"GbdFlaecheAufN\",\n",
    "    \"GbdRauminhalt\"\n",
    "]]\n",
    "\n",
    "# Übersicht der neuen Struktur\n",
    "print(df_reduced.head(20))\n",
    "print(\"\\nNeue Form:\", df_reduced.shape)\n"
   ],
   "id": "eff21eb72cda58dd",
   "outputs": [
    {
     "name": "stdout",
     "output_type": "stream",
     "text": [
      "    StichtagDatJahr  KreisCd  \\\n",
      "0              2008        1   \n",
      "1              2008        1   \n",
      "2              2008        1   \n",
      "3              2008        1   \n",
      "4              2008        1   \n",
      "5              2008        1   \n",
      "6              2008        1   \n",
      "7              2008        1   \n",
      "8              2008        1   \n",
      "9              2008        1   \n",
      "10             2008        1   \n",
      "11             2008        1   \n",
      "12             2008        1   \n",
      "13             2008        1   \n",
      "14             2008        1   \n",
      "15             2008        1   \n",
      "16             2008        1   \n",
      "17             2008        1   \n",
      "18             2008        1   \n",
      "19             2008        1   \n",
      "\n",
      "                                     GbdArtLevel1Lang  \\\n",
      "0     Einfamilienhaus freistehend ohne Geschäftsräume   \n",
      "1        Einfamilienhaus angebaut ohne Geschäftsräume   \n",
      "2        Einfamilienhaus angebaut ohne Geschäftsräume   \n",
      "3         Gebäude mit 2 Wohnungen ohne Geschäftsräume   \n",
      "4         Gebäude mit 2 Wohnungen ohne Geschäftsräume   \n",
      "5         Gebäude mit 2 Wohnungen ohne Geschäftsräume   \n",
      "6   Gebäude mit mehr als 2 Wohnungen ohne Geschäft...   \n",
      "7   Gebäude mit mehr als 2 Wohnungen ohne Geschäft...   \n",
      "8   Gebäude mit mehr als 2 Wohnungen ohne Geschäft...   \n",
      "9   Gebäude mit mehr als 2 Wohnungen ohne Geschäft...   \n",
      "10  Gebäude mit mehr als 2 Wohnungen ohne Geschäft...   \n",
      "11  Gebäude mit mehr als 2 Wohnungen mit Geschäfts...   \n",
      "12  Gebäude mit mehr als 2 Wohnungen mit Geschäfts...   \n",
      "13  Gebäude mit mehr als 2 Wohnungen mit Geschäfts...   \n",
      "14  Gebäude mit mehr als 2 Wohnungen mit Geschäfts...   \n",
      "15  Gebäude mit mehr als 2 Wohnungen mit Geschäfts...   \n",
      "16  Gebäude mit mehr als 2 Wohnungen mit Geschäfts...   \n",
      "17  Gebäude mit mehr als 2 Wohnungen mit Geschäfts...   \n",
      "18  Gebäude mit mehr als 2 Wohnungen mit Geschäfts...   \n",
      "19  Gebäude mit mehr als 2 Wohnungen mit Geschäfts...   \n",
      "\n",
      "                    GbdArtLevel2Lang                   GbdArtLevel3Lang  \\\n",
      "0          Gebäude mit einer Wohnung          Gebäude mit einer Wohnung   \n",
      "1          Gebäude mit einer Wohnung          Gebäude mit einer Wohnung   \n",
      "2          Gebäude mit einer Wohnung          Gebäude mit einer Wohnung   \n",
      "3            Gebäude mit 2 Wohnungen  Gebäude mit 2 oder mehr Wohnungen   \n",
      "4            Gebäude mit 2 Wohnungen  Gebäude mit 2 oder mehr Wohnungen   \n",
      "5            Gebäude mit 2 Wohnungen  Gebäude mit 2 oder mehr Wohnungen   \n",
      "6   Gebäude mit mehr als 2 Wohnungen  Gebäude mit 2 oder mehr Wohnungen   \n",
      "7   Gebäude mit mehr als 2 Wohnungen  Gebäude mit 2 oder mehr Wohnungen   \n",
      "8   Gebäude mit mehr als 2 Wohnungen  Gebäude mit 2 oder mehr Wohnungen   \n",
      "9   Gebäude mit mehr als 2 Wohnungen  Gebäude mit 2 oder mehr Wohnungen   \n",
      "10  Gebäude mit mehr als 2 Wohnungen  Gebäude mit 2 oder mehr Wohnungen   \n",
      "11  Gebäude mit mehr als 2 Wohnungen  Gebäude mit 2 oder mehr Wohnungen   \n",
      "12  Gebäude mit mehr als 2 Wohnungen  Gebäude mit 2 oder mehr Wohnungen   \n",
      "13  Gebäude mit mehr als 2 Wohnungen  Gebäude mit 2 oder mehr Wohnungen   \n",
      "14  Gebäude mit mehr als 2 Wohnungen  Gebäude mit 2 oder mehr Wohnungen   \n",
      "15  Gebäude mit mehr als 2 Wohnungen  Gebäude mit 2 oder mehr Wohnungen   \n",
      "16  Gebäude mit mehr als 2 Wohnungen  Gebäude mit 2 oder mehr Wohnungen   \n",
      "17  Gebäude mit mehr als 2 Wohnungen  Gebäude mit 2 oder mehr Wohnungen   \n",
      "18  Gebäude mit mehr als 2 Wohnungen  Gebäude mit 2 oder mehr Wohnungen   \n",
      "19  Gebäude mit mehr als 2 Wohnungen  Gebäude mit 2 oder mehr Wohnungen   \n",
      "\n",
      "   GbdArtLevel4Lang BauperiodeLevel1Lang  AnzGbd  GbdFlaecheAufN  \\\n",
      "0       Wohngebäude             Vor 1893       1              53   \n",
      "1       Wohngebäude             Vor 1893      16            1285   \n",
      "2       Wohngebäude          1980 - 1989       4             257   \n",
      "3       Wohngebäude             Vor 1893      10            1259   \n",
      "4       Wohngebäude          1930 - 1939       1             247   \n",
      "5       Wohngebäude          1970 - 1979       1             100   \n",
      "6       Wohngebäude             Vor 1893      26            2905   \n",
      "7       Wohngebäude          1950 - 1959       2             337   \n",
      "8       Wohngebäude          1960 - 1969       2             435   \n",
      "9       Wohngebäude          1980 - 1989       1             210   \n",
      "10      Wohngebäude          1990 - 1999       1             123   \n",
      "11      Wohngebäude             Vor 1893     322           48550   \n",
      "12      Wohngebäude          1893 - 1899       2             599   \n",
      "13      Wohngebäude          1900 - 1909       1             347   \n",
      "14      Wohngebäude          1910 - 1919       4             857   \n",
      "15      Wohngebäude          1930 - 1939       1              61   \n",
      "16      Wohngebäude          1940 - 1949       2             308   \n",
      "17      Wohngebäude          1950 - 1959      11            3015   \n",
      "18      Wohngebäude          1960 - 1969       3             352   \n",
      "19      Wohngebäude          1970 - 1979       8            1495   \n",
      "\n",
      "    GbdRauminhalt  \n",
      "0             265  \n",
      "1           13746  \n",
      "2            1552  \n",
      "3           21324  \n",
      "4            3236  \n",
      "5             569  \n",
      "6           40602  \n",
      "7            5960  \n",
      "8            6431  \n",
      "9            4400  \n",
      "10           2830  \n",
      "11         807579  \n",
      "12           8470  \n",
      "13           5766  \n",
      "14          16220  \n",
      "15           1000  \n",
      "16           5980  \n",
      "17          57198  \n",
      "18           7283  \n",
      "19          29864  \n",
      "\n",
      "Neue Form: (107591, 10)\n"
     ]
    }
   ],
   "execution_count": 23
  },
  {
   "metadata": {
    "ExecuteTime": {
     "end_time": "2025-04-27T16:49:06.873257Z",
     "start_time": "2025-04-27T16:49:06.866922Z"
    }
   },
   "cell_type": "code",
   "source": [
    "# Alle einzigartigen Werte in der Spalte 'GbdArtLevel1Lang' anzeigen\n",
    "unique_entries = df[\"GbdArtLevel1Lang\"].unique()\n",
    "\n",
    "# Ausgabe\n",
    "print(unique_entries)\n"
   ],
   "id": "f4ef84d0ff5ed6",
   "outputs": [
    {
     "name": "stdout",
     "output_type": "stream",
     "text": [
      "['Einfamilienhaus freistehend ohne Geschäftsräume'\n",
      " 'Einfamilienhaus angebaut ohne Geschäftsräume'\n",
      " 'Gebäude mit 2 Wohnungen ohne Geschäftsräume'\n",
      " 'Gebäude mit mehr als 2 Wohnungen ohne Geschäftsräume'\n",
      " 'Gebäude mit mehr als 2 Wohnungen mit Geschäftsräumen'\n",
      " 'Wohngebäude für Gemeinschaften' 'Alterswohnhaus-/heim' 'Hotel'\n",
      " 'Restaurant in Wohngebäude'\n",
      " 'Andere Gebäude für kurzfristige Beherbergung' 'Geschäftshaus'\n",
      " 'Bürogebäude' 'Gross- und Einzelhandelsgebäude'\n",
      " 'Garagen (1-9 Parkplätze)' 'Garagen (mehr als 9 Parkplätze)'\n",
      " 'Industriegebäude' 'Werkstattgebäude' 'Übriges Gebäude für Industrie'\n",
      " 'Lager, Silo' 'Theater-, Konzert- und Kinogebäude'\n",
      " 'Versammlungsgebäude, Mehrzweckhalle' 'Museen und Bibliotheken'\n",
      " 'Schulhaus' 'Hort, Kindergarten' 'Hochschulgebäude'\n",
      " 'Kranken- und Pflegeheime' 'Übriges Gebäude für Sport'\n",
      " 'Landwirtschafts-, Gärtnerei- und Oekonomiegebäude'\n",
      " 'Kirche, Moschee, Synagoge' 'Übriges Kultusgebäude'\n",
      " 'Militär-, Luftschutz-, Polizei- und Feuerwehrgebäude'\n",
      " 'Übrige Kleingebäude' 'Bahngebäude' 'Übriges Gebäude für Schulzwecke'\n",
      " 'Übriges Gebäude des Gesundheitswesens'\n",
      " 'Sporthalle, Hallenbad, Turnhalle' 'Kirchgemeindehaus'\n",
      " 'Tram und Bus Wartehalle' 'Übriges Gebäude für Gastgewerbe'\n",
      " 'Radio und Fernsehen' 'Spital- und Klinikgebäude'\n",
      " 'Strafvollzugs- und Untersuchungshaftanstalten, Armee- Polizei- und Feuerwehrunterkünfte'\n",
      " 'Zoologischer Garten' 'Einfamilienhaus mit Geschäftsräumen'\n",
      " 'Gebäude mit 2 Wohnungen mit Geschäftsräumen'\n",
      " 'Restaurant in Nichtwohngebäude'\n",
      " 'Gebäude, welche für die Lagerung und Verarbeitung landwirtschaftlicher Produkte notwendig sind'\n",
      " 'Einzel- oder Gemeinschaftsställe für Geflügel, Schweine, Schafe, Kühe oder Pferde']\n"
     ]
    }
   ],
   "execution_count": 24
  },
  {
   "metadata": {
    "ExecuteTime": {
     "end_time": "2025-04-27T16:49:06.891434Z",
     "start_time": "2025-04-27T16:49:06.882119Z"
    }
   },
   "cell_type": "code",
   "source": [
    "# Nur noch einträge mit Wohngebäude\n",
    "df_filtered = df_reduced[\n",
    "    (df_reduced[\"GbdArtLevel1Lang\"] == \"Einfamilienhaus freistehend ohne Geschäftsräume\") |\n",
    "    (df_reduced[\"GbdArtLevel1Lang\"] == \"Einfamilienhaus angebaut ohne Geschäftsräume\")\n",
    "]\n",
    "\n",
    "# Optional: Reset des Index (nicht zwingend nötig, aber manchmal praktischer)\n",
    "df_filtered = df_filtered.reset_index(drop=True)\n",
    "\n",
    "# Ausgabe prüfen\n",
    "print(df_filtered.head())\n",
    "print(\"\\nNeue Form:\", df_filtered.shape)\n"
   ],
   "id": "e97b61ab48107e35",
   "outputs": [
    {
     "name": "stdout",
     "output_type": "stream",
     "text": [
      "   StichtagDatJahr  KreisCd                                 GbdArtLevel1Lang  \\\n",
      "0             2008        1  Einfamilienhaus freistehend ohne Geschäftsräume   \n",
      "1             2008        1     Einfamilienhaus angebaut ohne Geschäftsräume   \n",
      "2             2008        1     Einfamilienhaus angebaut ohne Geschäftsräume   \n",
      "3             2008        1  Einfamilienhaus freistehend ohne Geschäftsräume   \n",
      "4             2008        1     Einfamilienhaus angebaut ohne Geschäftsräume   \n",
      "\n",
      "            GbdArtLevel2Lang           GbdArtLevel3Lang GbdArtLevel4Lang  \\\n",
      "0  Gebäude mit einer Wohnung  Gebäude mit einer Wohnung      Wohngebäude   \n",
      "1  Gebäude mit einer Wohnung  Gebäude mit einer Wohnung      Wohngebäude   \n",
      "2  Gebäude mit einer Wohnung  Gebäude mit einer Wohnung      Wohngebäude   \n",
      "3  Gebäude mit einer Wohnung  Gebäude mit einer Wohnung      Wohngebäude   \n",
      "4  Gebäude mit einer Wohnung  Gebäude mit einer Wohnung      Wohngebäude   \n",
      "\n",
      "  BauperiodeLevel1Lang  AnzGbd  GbdFlaecheAufN  GbdRauminhalt  \n",
      "0             Vor 1893       1              53            265  \n",
      "1             Vor 1893      16            1285          13746  \n",
      "2          1980 - 1989       4             257           1552  \n",
      "3             Vor 1893       2             669           3734  \n",
      "4             Vor 1893       2             196           1507  \n",
      "\n",
      "Neue Form: (8604, 10)\n"
     ]
    }
   ],
   "execution_count": 25
  },
  {
   "metadata": {
    "ExecuteTime": {
     "end_time": "2025-04-27T16:49:06.902911Z",
     "start_time": "2025-04-27T16:49:06.899420Z"
    }
   },
   "cell_type": "code",
   "source": [
    "# Nur gewünschte Spalten behalten\n",
    "df_reduced2 = df[[\n",
    "    \"StichtagDatJahr\",\n",
    "    \"KreisCd\",\n",
    "    \"BauperiodeLevel1Lang\",\n",
    "    \"AnzGbd\",\n",
    "    \"GbdFlaecheAufN\",\n",
    "]]\n",
    "\n",
    "# Übersicht der neuen Struktur\n",
    "print(df_reduced2.head(20))\n",
    "print(\"\\nNeue Form:\", df_reduced2.shape)"
   ],
   "id": "6851758c3814ea3",
   "outputs": [
    {
     "name": "stdout",
     "output_type": "stream",
     "text": [
      "    StichtagDatJahr  KreisCd BauperiodeLevel1Lang  AnzGbd  GbdFlaecheAufN\n",
      "0              2008        1             Vor 1893       1              53\n",
      "1              2008        1             Vor 1893      16            1285\n",
      "2              2008        1          1980 - 1989       4             257\n",
      "3              2008        1             Vor 1893      10            1259\n",
      "4              2008        1          1930 - 1939       1             247\n",
      "5              2008        1          1970 - 1979       1             100\n",
      "6              2008        1             Vor 1893      26            2905\n",
      "7              2008        1          1950 - 1959       2             337\n",
      "8              2008        1          1960 - 1969       2             435\n",
      "9              2008        1          1980 - 1989       1             210\n",
      "10             2008        1          1990 - 1999       1             123\n",
      "11             2008        1             Vor 1893     322           48550\n",
      "12             2008        1          1893 - 1899       2             599\n",
      "13             2008        1          1900 - 1909       1             347\n",
      "14             2008        1          1910 - 1919       4             857\n",
      "15             2008        1          1930 - 1939       1              61\n",
      "16             2008        1          1940 - 1949       2             308\n",
      "17             2008        1          1950 - 1959      11            3015\n",
      "18             2008        1          1960 - 1969       3             352\n",
      "19             2008        1          1970 - 1979       8            1495\n",
      "\n",
      "Neue Form: (107591, 5)\n"
     ]
    }
   ],
   "execution_count": 26
  },
  {
   "metadata": {
    "ExecuteTime": {
     "end_time": "2025-04-27T16:49:06.918372Z",
     "start_time": "2025-04-27T16:49:06.910377Z"
    }
   },
   "cell_type": "code",
   "source": [
    "# Gruppieren nach allen Spalten außer 'AnzGbd' und dann 'AnzGbd' aufsummieren\n",
    "df_aggregated = (\n",
    "    df_reduced2\n",
    "    .groupby([\"StichtagDatJahr\", \"KreisCd\", \"BauperiodeLevel1Lang\"], as_index=False)\n",
    "    .agg({\"AnzGbd\": \"sum\", \"GbdFlaecheAufN\": \"sum\"})\n",
    ")\n",
    "\n",
    "# Ausgabe\n",
    "print(df_aggregated.head())\n",
    "print(\"\\nNeue Form:\", df_aggregated.shape)\n"
   ],
   "id": "98e4663aaf79933a",
   "outputs": [
    {
     "name": "stdout",
     "output_type": "stream",
     "text": [
      "   StichtagDatJahr  KreisCd BauperiodeLevel1Lang  AnzGbd  GbdFlaecheAufN\n",
      "0             2008        1          1893 - 1899      47           20235\n",
      "1             2008        1          1900 - 1909      40           19420\n",
      "2             2008        1          1910 - 1919      53           54396\n",
      "3             2008        1          1920 - 1929      29           20603\n",
      "4             2008        1          1930 - 1939      57           29005\n",
      "\n",
      "Neue Form: (2891, 5)\n"
     ]
    }
   ],
   "execution_count": 27
  },
  {
   "metadata": {
    "ExecuteTime": {
     "end_time": "2025-04-27T16:49:06.941455Z",
     "start_time": "2025-04-27T16:49:06.926704Z"
    }
   },
   "cell_type": "code",
   "source": [
    "# Funktion zur Qualitätsprüfung eines DataFrames\n",
    "def check_data_quality(df_reduced2, name=\"DataFrame\"):\n",
    "    print(f\"📋 Qualitätsprüfung für {name}\\n\")\n",
    "\n",
    "    # Datentypen\n",
    "    print(\"1. Datentypen:\")\n",
    "    print(df_reduced2.dtypes)\n",
    "\n",
    "    # Nullwerte\n",
    "    print(\"\\n2. Nullwerte pro Spalte:\")\n",
    "    print(df_reduced2.isnull().sum().sort_values(ascending=False))\n",
    "\n",
    "    # Form\n",
    "    print(\"\\n3. Form (Zeilen, Spalten):\", df_reduced2.shape)\n",
    "\n",
    "    # Eindeutige Werte\n",
    "    print(\"\\n4. Eindeutige Werte pro Spalte:\")\n",
    "    print(df_reduced2.nunique().sort_values(ascending=False))\n",
    "\n",
    "    # Doppelte Zeilen\n",
    "    print(\"\\n5. Anzahl doppelter Zeilen:\", df_reduced2.duplicated().sum())\n",
    "\n",
    "    # Vorschau\n",
    "    print(\"\\n6. Erste 5 Zeilen:\")\n",
    "    print(df_reduced2.head())\n",
    "\n",
    "    print(\"\\n\" + \"-\"*60 + \"\\n\")\n",
    "\n",
    "# Qualitätsprüfung für df_aggregated\n",
    "check_data_quality(df_reduced2, \"df_reduced2)\")\n"
   ],
   "id": "633dae4f0536428a",
   "outputs": [
    {
     "name": "stdout",
     "output_type": "stream",
     "text": [
      "📋 Qualitätsprüfung für df_reduced2)\n",
      "\n",
      "1. Datentypen:\n",
      "StichtagDatJahr          int64\n",
      "KreisCd                  int64\n",
      "BauperiodeLevel1Lang    object\n",
      "AnzGbd                   int64\n",
      "GbdFlaecheAufN           int64\n",
      "dtype: object\n",
      "\n",
      "2. Nullwerte pro Spalte:\n",
      "StichtagDatJahr         0\n",
      "KreisCd                 0\n",
      "BauperiodeLevel1Lang    0\n",
      "AnzGbd                  0\n",
      "GbdFlaecheAufN          0\n",
      "dtype: int64\n",
      "\n",
      "3. Form (Zeilen, Spalten): (107591, 5)\n",
      "\n",
      "4. Eindeutige Werte pro Spalte:\n",
      "GbdFlaecheAufN          7666\n",
      "AnzGbd                   307\n",
      "StichtagDatJahr           17\n",
      "BauperiodeLevel1Lang      15\n",
      "KreisCd                   12\n",
      "dtype: int64\n",
      "\n",
      "5. Anzahl doppelter Zeilen: 3265\n",
      "\n",
      "6. Erste 5 Zeilen:\n",
      "   StichtagDatJahr  KreisCd BauperiodeLevel1Lang  AnzGbd  GbdFlaecheAufN\n",
      "0             2008        1             Vor 1893       1              53\n",
      "1             2008        1             Vor 1893      16            1285\n",
      "2             2008        1          1980 - 1989       4             257\n",
      "3             2008        1             Vor 1893      10            1259\n",
      "4             2008        1          1930 - 1939       1             247\n",
      "\n",
      "------------------------------------------------------------\n",
      "\n"
     ]
    }
   ],
   "execution_count": 28
  },
  {
   "metadata": {
    "ExecuteTime": {
     "end_time": "2025-04-27T16:49:07.012760Z",
     "start_time": "2025-04-27T16:49:06.949615Z"
    }
   },
   "cell_type": "code",
   "source": [
    "# Aggregierten vollständigen DataFrame speichern\n",
    "df_reduced2.to_csv(\n",
    "    \"../data/Cleaned/gebauedeZuerichCleaned.csv\",\n",
    "    index=False,\n",
    "    encoding=\"utf-8\"\n",
    ")\n",
    "\n",
    "print(\"Datei wurde erfolgreich gespeichert!\")"
   ],
   "id": "7b43f035cbf2a2c9",
   "outputs": [
    {
     "name": "stdout",
     "output_type": "stream",
     "text": [
      "Datei wurde erfolgreich gespeichert!\n"
     ]
    }
   ],
   "execution_count": 29
  },
  {
   "metadata": {
    "ExecuteTime": {
     "end_time": "2025-04-27T16:49:07.033051Z",
     "start_time": "2025-04-27T16:49:07.029196Z"
    }
   },
   "cell_type": "code",
   "source": [
    "\n",
    "# Filtere nur die Jahre 2023 und 2024\n",
    "df_filtered_years = df_reduced2[df_reduced2[\"StichtagDatJahr\"].isin([2021, 2022, 2023, 2024])]\n",
    "\n",
    "# Gruppiere nach Jahr und summiere die Anzahl Gebäude\n",
    "yearly_summary = (\n",
    "    df_filtered_years\n",
    "    .groupby(\"StichtagDatJahr\", as_index=False)\n",
    "    .agg({\"AnzGbd\": \"sum\"})\n",
    ")\n",
    "\n",
    "# Ausgabe\n",
    "print(yearly_summary)"
   ],
   "id": "78b0991c30ab9e16",
   "outputs": [
    {
     "name": "stdout",
     "output_type": "stream",
     "text": [
      "   StichtagDatJahr  AnzGbd\n",
      "0             2021   54415\n",
      "1             2022   54413\n",
      "2             2023   54378\n",
      "3             2024   54487\n"
     ]
    }
   ],
   "execution_count": 30
  },
  {
   "metadata": {
    "ExecuteTime": {
     "end_time": "2025-04-27T16:49:07.102447Z",
     "start_time": "2025-04-27T16:49:07.099119Z"
    }
   },
   "cell_type": "code",
   "source": [
    "# Nur 2024 filtern und Spalte entfernen\n",
    "df_2024 = df_reduced2[df_reduced2[\"StichtagDatJahr\"] == 2024].drop(columns=[\"StichtagDatJahr\"])\n",
    "\n",
    "# Ausgabe zur Kontrolle\n",
    "print(df_2024.head())\n",
    "print(\"\\nNeue Form:\", df_2024.shape)\n"
   ],
   "id": "36dbca9dbec55115",
   "outputs": [
    {
     "name": "stdout",
     "output_type": "stream",
     "text": [
      "        KreisCd BauperiodeLevel1Lang  AnzGbd  GbdFlaecheAufN\n",
      "100769        1             Vor 1893       1              53\n",
      "100770        1          1930 - 1939       1             247\n",
      "100771        1             Vor 1893      23            1931\n",
      "100772        1          1970 - 1979       1             100\n",
      "100773        1          1980 - 1989       4             257\n",
      "\n",
      "Neue Form: (6822, 4)\n"
     ]
    }
   ],
   "execution_count": 31
  },
  {
   "metadata": {
    "ExecuteTime": {
     "end_time": "2025-04-27T16:49:07.178521Z",
     "start_time": "2025-04-27T16:49:07.171629Z"
    }
   },
   "cell_type": "code",
   "source": [
    "# DataFrame speichern\n",
    "df_2024.to_csv(\n",
    "    \"../data/Cleaned/gebauedeZuerich2024Cleaned.csv\",\n",
    "    index=False,\n",
    "    encoding=\"utf-8\"\n",
    ")\n",
    "\n",
    "print(\"Datei wurde erfolgreich gespeichert!\")"
   ],
   "id": "16bf7e963d38cf51",
   "outputs": [
    {
     "name": "stdout",
     "output_type": "stream",
     "text": [
      "Datei wurde erfolgreich gespeichert!\n"
     ]
    }
   ],
   "execution_count": 32
  }
 ],
 "metadata": {
  "kernelspec": {
   "display_name": "Python 3",
   "language": "python",
   "name": "python3"
  },
  "language_info": {
   "codemirror_mode": {
    "name": "ipython",
    "version": 2
   },
   "file_extension": ".py",
   "mimetype": "text/x-python",
   "name": "python",
   "nbconvert_exporter": "python",
   "pygments_lexer": "ipython2",
   "version": "2.7.6"
  }
 },
 "nbformat": 4,
 "nbformat_minor": 5
}
